{
  "metadata": {
    "kernelspec": {
      "name": "python",
      "display_name": "Pyolite",
      "language": "python"
    },
    "language_info": {
      "codemirror_mode": {
        "name": "python",
        "version": 3
      },
      "file_extension": ".py",
      "mimetype": "text/x-python",
      "name": "python",
      "nbconvert_exporter": "python",
      "pygments_lexer": "ipython3",
      "version": "3.8"
    }
  },
  "nbformat_minor": 4,
  "nbformat": 4,
  "cells": [
    {
      "cell_type": "markdown",
      "source": "<center>\n    <img src=\"https://s3-api.us-geo.objectstorage.softlayer.net/cf-courses-data/CognitiveClass/Logos/organization_logo/organization_logo.png\" width=\"300\" alt=\"cognitiveclass.ai logo\"  />\n</center>\n",
      "metadata": {}
    },
    {
      "cell_type": "markdown",
      "source": "#### Add your code below following the instructions given in the course\n",
      "metadata": {}
    },
    {
      "cell_type": "markdown",
      "source": "# My Jupyter Notebook on IBM Watson Studio",
      "metadata": {}
    },
    {
      "cell_type": "markdown",
      "source": "**Guru Monish**",
      "metadata": {}
    },
    {
      "cell_type": "markdown",
      "source": "My aim is to become the data scientist and evaluate the models inorder to solve the real-time problems.",
      "metadata": {}
    },
    {
      "cell_type": "markdown",
      "source": "- id \n- reg \n- num",
      "metadata": {}
    },
    {
      "cell_type": "markdown",
      "source": "1. reading\n2. cleaning\n3. visualization\n4. model building",
      "metadata": {}
    },
    {
      "cell_type": "markdown",
      "source": "<a href=\"http://url\" target=\"_blank\" rel=\"noopener noreferrer\">link text</a>",
      "metadata": {}
    }
  ]
}